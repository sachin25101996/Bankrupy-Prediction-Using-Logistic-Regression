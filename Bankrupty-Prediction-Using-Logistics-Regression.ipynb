{
 "cells": [
  {
   "cell_type": "code",
   "execution_count": 63,
   "metadata": {},
   "outputs": [],
   "source": [
    "import pandas as pd\n",
    "import numpy as np\n",
    "import seaborn as sn\n",
    "import matplotlib.pyplot as plt"
   ]
  },
  {
   "cell_type": "code",
   "execution_count": 64,
   "metadata": {},
   "outputs": [],
   "source": [
    "data = pd.read_csv('J:\\Imarticus_Project_2/German_Credit_data.csv')"
   ]
  },
  {
   "cell_type": "code",
   "execution_count": 65,
   "metadata": {},
   "outputs": [
    {
     "name": "stdout",
     "output_type": "stream",
     "text": [
      "<class 'pandas.core.frame.DataFrame'>\n",
      "RangeIndex: 1000 entries, 0 to 999\n",
      "Data columns (total 21 columns):\n",
      "Creditability                                        1000 non-null int64\n",
      "Status_of_existing_account                           1000 non-null int64\n",
      "Duration_of_Credit_month                             1000 non-null int64\n",
      "Payment_Status_of_Previous_Credit(Credit_history)    1000 non-null int64\n",
      "Purpose_of_loan                                      1000 non-null int64\n",
      "Credit_Amount                                        1000 non-null int64\n",
      "Value_of_Savings_account&bonds                       1000 non-null int64\n",
      "Years_of_Present_Employment                          1000 non-null int64\n",
      "Percentage_of_disposable_income                      1000 non-null int64\n",
      "Sex_&_Marital_Status                                 1000 non-null int64\n",
      "Guarantors/Debtors                                   1000 non-null int64\n",
      "Duration_in_Present_Residence                        1000 non-null int64\n",
      "Property                                             1000 non-null int64\n",
      "Age_in_years                                         1000 non-null int64\n",
      "Concurrent_Credits                                   1000 non-null int64\n",
      "Housing                                              1000 non-null int64\n",
      "No_of_Credits_at_this__Bank                          1000 non-null int64\n",
      "Occupation                                           1000 non-null int64\n",
      "No_of_dependents                                     1000 non-null int64\n",
      "Telephone                                            1000 non-null int64\n",
      "Foreign_Worker                                       1000 non-null int64\n",
      "dtypes: int64(21)\n",
      "memory usage: 164.1 KB\n"
     ]
    }
   ],
   "source": [
    "data.info()"
   ]
  },
  {
   "cell_type": "code",
   "execution_count": 66,
   "metadata": {},
   "outputs": [
    {
     "data": {
      "text/html": [
       "<div>\n",
       "<style scoped>\n",
       "    .dataframe tbody tr th:only-of-type {\n",
       "        vertical-align: middle;\n",
       "    }\n",
       "\n",
       "    .dataframe tbody tr th {\n",
       "        vertical-align: top;\n",
       "    }\n",
       "\n",
       "    .dataframe thead th {\n",
       "        text-align: right;\n",
       "    }\n",
       "</style>\n",
       "<table border=\"1\" class=\"dataframe\">\n",
       "  <thead>\n",
       "    <tr style=\"text-align: right;\">\n",
       "      <th></th>\n",
       "      <th>Creditability</th>\n",
       "      <th>Status_of_existing_account</th>\n",
       "      <th>Duration_of_Credit_month</th>\n",
       "      <th>Payment_Status_of_Previous_Credit(Credit_history)</th>\n",
       "      <th>Purpose_of_loan</th>\n",
       "      <th>Credit_Amount</th>\n",
       "      <th>Value_of_Savings_account&amp;bonds</th>\n",
       "      <th>Years_of_Present_Employment</th>\n",
       "      <th>Percentage_of_disposable_income</th>\n",
       "      <th>Sex_&amp;_Marital_Status</th>\n",
       "      <th>...</th>\n",
       "      <th>Duration_in_Present_Residence</th>\n",
       "      <th>Property</th>\n",
       "      <th>Age_in_years</th>\n",
       "      <th>Concurrent_Credits</th>\n",
       "      <th>Housing</th>\n",
       "      <th>No_of_Credits_at_this__Bank</th>\n",
       "      <th>Occupation</th>\n",
       "      <th>No_of_dependents</th>\n",
       "      <th>Telephone</th>\n",
       "      <th>Foreign_Worker</th>\n",
       "    </tr>\n",
       "  </thead>\n",
       "  <tbody>\n",
       "    <tr>\n",
       "      <th>count</th>\n",
       "      <td>1000.000000</td>\n",
       "      <td>1000.000000</td>\n",
       "      <td>1000.000000</td>\n",
       "      <td>1000.00000</td>\n",
       "      <td>1000.000000</td>\n",
       "      <td>1000.00000</td>\n",
       "      <td>1000.000000</td>\n",
       "      <td>1000.000000</td>\n",
       "      <td>1000.000000</td>\n",
       "      <td>1000.00000</td>\n",
       "      <td>...</td>\n",
       "      <td>1000.000000</td>\n",
       "      <td>1000.000000</td>\n",
       "      <td>1000.00000</td>\n",
       "      <td>1000.000000</td>\n",
       "      <td>1000.000000</td>\n",
       "      <td>1000.000000</td>\n",
       "      <td>1000.000000</td>\n",
       "      <td>1000.000000</td>\n",
       "      <td>1000.000000</td>\n",
       "      <td>1000.000000</td>\n",
       "    </tr>\n",
       "    <tr>\n",
       "      <th>mean</th>\n",
       "      <td>0.700000</td>\n",
       "      <td>2.577000</td>\n",
       "      <td>20.903000</td>\n",
       "      <td>2.54500</td>\n",
       "      <td>2.828000</td>\n",
       "      <td>3271.24800</td>\n",
       "      <td>2.105000</td>\n",
       "      <td>3.384000</td>\n",
       "      <td>2.973000</td>\n",
       "      <td>2.68200</td>\n",
       "      <td>...</td>\n",
       "      <td>2.845000</td>\n",
       "      <td>2.358000</td>\n",
       "      <td>35.54200</td>\n",
       "      <td>2.675000</td>\n",
       "      <td>1.928000</td>\n",
       "      <td>1.407000</td>\n",
       "      <td>2.904000</td>\n",
       "      <td>1.155000</td>\n",
       "      <td>1.404000</td>\n",
       "      <td>1.037000</td>\n",
       "    </tr>\n",
       "    <tr>\n",
       "      <th>std</th>\n",
       "      <td>0.458487</td>\n",
       "      <td>1.257638</td>\n",
       "      <td>12.058814</td>\n",
       "      <td>1.08312</td>\n",
       "      <td>2.744439</td>\n",
       "      <td>2822.75176</td>\n",
       "      <td>1.580023</td>\n",
       "      <td>1.208306</td>\n",
       "      <td>1.118715</td>\n",
       "      <td>0.70808</td>\n",
       "      <td>...</td>\n",
       "      <td>1.103718</td>\n",
       "      <td>1.050209</td>\n",
       "      <td>11.35267</td>\n",
       "      <td>0.705601</td>\n",
       "      <td>0.530186</td>\n",
       "      <td>0.577654</td>\n",
       "      <td>0.653614</td>\n",
       "      <td>0.362086</td>\n",
       "      <td>0.490943</td>\n",
       "      <td>0.188856</td>\n",
       "    </tr>\n",
       "    <tr>\n",
       "      <th>min</th>\n",
       "      <td>0.000000</td>\n",
       "      <td>1.000000</td>\n",
       "      <td>4.000000</td>\n",
       "      <td>0.00000</td>\n",
       "      <td>0.000000</td>\n",
       "      <td>250.00000</td>\n",
       "      <td>1.000000</td>\n",
       "      <td>1.000000</td>\n",
       "      <td>1.000000</td>\n",
       "      <td>1.00000</td>\n",
       "      <td>...</td>\n",
       "      <td>1.000000</td>\n",
       "      <td>1.000000</td>\n",
       "      <td>19.00000</td>\n",
       "      <td>1.000000</td>\n",
       "      <td>1.000000</td>\n",
       "      <td>1.000000</td>\n",
       "      <td>1.000000</td>\n",
       "      <td>1.000000</td>\n",
       "      <td>1.000000</td>\n",
       "      <td>1.000000</td>\n",
       "    </tr>\n",
       "    <tr>\n",
       "      <th>25%</th>\n",
       "      <td>0.000000</td>\n",
       "      <td>1.000000</td>\n",
       "      <td>12.000000</td>\n",
       "      <td>2.00000</td>\n",
       "      <td>1.000000</td>\n",
       "      <td>1365.50000</td>\n",
       "      <td>1.000000</td>\n",
       "      <td>3.000000</td>\n",
       "      <td>2.000000</td>\n",
       "      <td>2.00000</td>\n",
       "      <td>...</td>\n",
       "      <td>2.000000</td>\n",
       "      <td>1.000000</td>\n",
       "      <td>27.00000</td>\n",
       "      <td>3.000000</td>\n",
       "      <td>2.000000</td>\n",
       "      <td>1.000000</td>\n",
       "      <td>3.000000</td>\n",
       "      <td>1.000000</td>\n",
       "      <td>1.000000</td>\n",
       "      <td>1.000000</td>\n",
       "    </tr>\n",
       "    <tr>\n",
       "      <th>50%</th>\n",
       "      <td>1.000000</td>\n",
       "      <td>2.000000</td>\n",
       "      <td>18.000000</td>\n",
       "      <td>2.00000</td>\n",
       "      <td>2.000000</td>\n",
       "      <td>2319.50000</td>\n",
       "      <td>1.000000</td>\n",
       "      <td>3.000000</td>\n",
       "      <td>3.000000</td>\n",
       "      <td>3.00000</td>\n",
       "      <td>...</td>\n",
       "      <td>3.000000</td>\n",
       "      <td>2.000000</td>\n",
       "      <td>33.00000</td>\n",
       "      <td>3.000000</td>\n",
       "      <td>2.000000</td>\n",
       "      <td>1.000000</td>\n",
       "      <td>3.000000</td>\n",
       "      <td>1.000000</td>\n",
       "      <td>1.000000</td>\n",
       "      <td>1.000000</td>\n",
       "    </tr>\n",
       "    <tr>\n",
       "      <th>75%</th>\n",
       "      <td>1.000000</td>\n",
       "      <td>4.000000</td>\n",
       "      <td>24.000000</td>\n",
       "      <td>4.00000</td>\n",
       "      <td>3.000000</td>\n",
       "      <td>3972.25000</td>\n",
       "      <td>3.000000</td>\n",
       "      <td>5.000000</td>\n",
       "      <td>4.000000</td>\n",
       "      <td>3.00000</td>\n",
       "      <td>...</td>\n",
       "      <td>4.000000</td>\n",
       "      <td>3.000000</td>\n",
       "      <td>42.00000</td>\n",
       "      <td>3.000000</td>\n",
       "      <td>2.000000</td>\n",
       "      <td>2.000000</td>\n",
       "      <td>3.000000</td>\n",
       "      <td>1.000000</td>\n",
       "      <td>2.000000</td>\n",
       "      <td>1.000000</td>\n",
       "    </tr>\n",
       "    <tr>\n",
       "      <th>max</th>\n",
       "      <td>1.000000</td>\n",
       "      <td>4.000000</td>\n",
       "      <td>72.000000</td>\n",
       "      <td>4.00000</td>\n",
       "      <td>10.000000</td>\n",
       "      <td>18424.00000</td>\n",
       "      <td>5.000000</td>\n",
       "      <td>5.000000</td>\n",
       "      <td>4.000000</td>\n",
       "      <td>4.00000</td>\n",
       "      <td>...</td>\n",
       "      <td>4.000000</td>\n",
       "      <td>4.000000</td>\n",
       "      <td>75.00000</td>\n",
       "      <td>3.000000</td>\n",
       "      <td>3.000000</td>\n",
       "      <td>4.000000</td>\n",
       "      <td>4.000000</td>\n",
       "      <td>2.000000</td>\n",
       "      <td>2.000000</td>\n",
       "      <td>2.000000</td>\n",
       "    </tr>\n",
       "  </tbody>\n",
       "</table>\n",
       "<p>8 rows × 21 columns</p>\n",
       "</div>"
      ],
      "text/plain": [
       "       Creditability  Status_of_existing_account  Duration_of_Credit_month  \\\n",
       "count    1000.000000                 1000.000000               1000.000000   \n",
       "mean        0.700000                    2.577000                 20.903000   \n",
       "std         0.458487                    1.257638                 12.058814   \n",
       "min         0.000000                    1.000000                  4.000000   \n",
       "25%         0.000000                    1.000000                 12.000000   \n",
       "50%         1.000000                    2.000000                 18.000000   \n",
       "75%         1.000000                    4.000000                 24.000000   \n",
       "max         1.000000                    4.000000                 72.000000   \n",
       "\n",
       "       Payment_Status_of_Previous_Credit(Credit_history)  Purpose_of_loan  \\\n",
       "count                                         1000.00000      1000.000000   \n",
       "mean                                             2.54500         2.828000   \n",
       "std                                              1.08312         2.744439   \n",
       "min                                              0.00000         0.000000   \n",
       "25%                                              2.00000         1.000000   \n",
       "50%                                              2.00000         2.000000   \n",
       "75%                                              4.00000         3.000000   \n",
       "max                                              4.00000        10.000000   \n",
       "\n",
       "       Credit_Amount  Value_of_Savings_account&bonds  \\\n",
       "count     1000.00000                     1000.000000   \n",
       "mean      3271.24800                        2.105000   \n",
       "std       2822.75176                        1.580023   \n",
       "min        250.00000                        1.000000   \n",
       "25%       1365.50000                        1.000000   \n",
       "50%       2319.50000                        1.000000   \n",
       "75%       3972.25000                        3.000000   \n",
       "max      18424.00000                        5.000000   \n",
       "\n",
       "       Years_of_Present_Employment  Percentage_of_disposable_income  \\\n",
       "count                  1000.000000                      1000.000000   \n",
       "mean                      3.384000                         2.973000   \n",
       "std                       1.208306                         1.118715   \n",
       "min                       1.000000                         1.000000   \n",
       "25%                       3.000000                         2.000000   \n",
       "50%                       3.000000                         3.000000   \n",
       "75%                       5.000000                         4.000000   \n",
       "max                       5.000000                         4.000000   \n",
       "\n",
       "       Sex_&_Marital_Status       ...        Duration_in_Present_Residence  \\\n",
       "count            1000.00000       ...                          1000.000000   \n",
       "mean                2.68200       ...                             2.845000   \n",
       "std                 0.70808       ...                             1.103718   \n",
       "min                 1.00000       ...                             1.000000   \n",
       "25%                 2.00000       ...                             2.000000   \n",
       "50%                 3.00000       ...                             3.000000   \n",
       "75%                 3.00000       ...                             4.000000   \n",
       "max                 4.00000       ...                             4.000000   \n",
       "\n",
       "          Property  Age_in_years  Concurrent_Credits      Housing  \\\n",
       "count  1000.000000    1000.00000         1000.000000  1000.000000   \n",
       "mean      2.358000      35.54200            2.675000     1.928000   \n",
       "std       1.050209      11.35267            0.705601     0.530186   \n",
       "min       1.000000      19.00000            1.000000     1.000000   \n",
       "25%       1.000000      27.00000            3.000000     2.000000   \n",
       "50%       2.000000      33.00000            3.000000     2.000000   \n",
       "75%       3.000000      42.00000            3.000000     2.000000   \n",
       "max       4.000000      75.00000            3.000000     3.000000   \n",
       "\n",
       "       No_of_Credits_at_this__Bank   Occupation  No_of_dependents  \\\n",
       "count                  1000.000000  1000.000000       1000.000000   \n",
       "mean                      1.407000     2.904000          1.155000   \n",
       "std                       0.577654     0.653614          0.362086   \n",
       "min                       1.000000     1.000000          1.000000   \n",
       "25%                       1.000000     3.000000          1.000000   \n",
       "50%                       1.000000     3.000000          1.000000   \n",
       "75%                       2.000000     3.000000          1.000000   \n",
       "max                       4.000000     4.000000          2.000000   \n",
       "\n",
       "         Telephone  Foreign_Worker  \n",
       "count  1000.000000     1000.000000  \n",
       "mean      1.404000        1.037000  \n",
       "std       0.490943        0.188856  \n",
       "min       1.000000        1.000000  \n",
       "25%       1.000000        1.000000  \n",
       "50%       1.000000        1.000000  \n",
       "75%       2.000000        1.000000  \n",
       "max       2.000000        2.000000  \n",
       "\n",
       "[8 rows x 21 columns]"
      ]
     },
     "execution_count": 66,
     "metadata": {},
     "output_type": "execute_result"
    }
   ],
   "source": [
    "data.describe()"
   ]
  },
  {
   "cell_type": "code",
   "execution_count": 67,
   "metadata": {},
   "outputs": [
    {
     "data": {
      "text/html": [
       "<div>\n",
       "<style scoped>\n",
       "    .dataframe tbody tr th:only-of-type {\n",
       "        vertical-align: middle;\n",
       "    }\n",
       "\n",
       "    .dataframe tbody tr th {\n",
       "        vertical-align: top;\n",
       "    }\n",
       "\n",
       "    .dataframe thead th {\n",
       "        text-align: right;\n",
       "    }\n",
       "</style>\n",
       "<table border=\"1\" class=\"dataframe\">\n",
       "  <thead>\n",
       "    <tr style=\"text-align: right;\">\n",
       "      <th></th>\n",
       "      <th>Creditability</th>\n",
       "      <th>Status_of_existing_account</th>\n",
       "      <th>Duration_of_Credit_month</th>\n",
       "      <th>Payment_Status_of_Previous_Credit(Credit_history)</th>\n",
       "      <th>Purpose_of_loan</th>\n",
       "      <th>Credit_Amount</th>\n",
       "      <th>Value_of_Savings_account&amp;bonds</th>\n",
       "      <th>Years_of_Present_Employment</th>\n",
       "      <th>Percentage_of_disposable_income</th>\n",
       "      <th>Sex_&amp;_Marital_Status</th>\n",
       "      <th>...</th>\n",
       "      <th>Duration_in_Present_Residence</th>\n",
       "      <th>Property</th>\n",
       "      <th>Age_in_years</th>\n",
       "      <th>Concurrent_Credits</th>\n",
       "      <th>Housing</th>\n",
       "      <th>No_of_Credits_at_this__Bank</th>\n",
       "      <th>Occupation</th>\n",
       "      <th>No_of_dependents</th>\n",
       "      <th>Telephone</th>\n",
       "      <th>Foreign_Worker</th>\n",
       "    </tr>\n",
       "  </thead>\n",
       "  <tbody>\n",
       "    <tr>\n",
       "      <th>0</th>\n",
       "      <td>1</td>\n",
       "      <td>1</td>\n",
       "      <td>18</td>\n",
       "      <td>4</td>\n",
       "      <td>2</td>\n",
       "      <td>1049</td>\n",
       "      <td>1</td>\n",
       "      <td>2</td>\n",
       "      <td>4</td>\n",
       "      <td>2</td>\n",
       "      <td>...</td>\n",
       "      <td>4</td>\n",
       "      <td>2</td>\n",
       "      <td>21</td>\n",
       "      <td>3</td>\n",
       "      <td>1</td>\n",
       "      <td>1</td>\n",
       "      <td>3</td>\n",
       "      <td>1</td>\n",
       "      <td>1</td>\n",
       "      <td>1</td>\n",
       "    </tr>\n",
       "    <tr>\n",
       "      <th>1</th>\n",
       "      <td>1</td>\n",
       "      <td>1</td>\n",
       "      <td>9</td>\n",
       "      <td>4</td>\n",
       "      <td>0</td>\n",
       "      <td>2799</td>\n",
       "      <td>1</td>\n",
       "      <td>3</td>\n",
       "      <td>2</td>\n",
       "      <td>3</td>\n",
       "      <td>...</td>\n",
       "      <td>2</td>\n",
       "      <td>1</td>\n",
       "      <td>36</td>\n",
       "      <td>3</td>\n",
       "      <td>1</td>\n",
       "      <td>2</td>\n",
       "      <td>3</td>\n",
       "      <td>2</td>\n",
       "      <td>1</td>\n",
       "      <td>1</td>\n",
       "    </tr>\n",
       "    <tr>\n",
       "      <th>2</th>\n",
       "      <td>1</td>\n",
       "      <td>2</td>\n",
       "      <td>12</td>\n",
       "      <td>2</td>\n",
       "      <td>9</td>\n",
       "      <td>841</td>\n",
       "      <td>2</td>\n",
       "      <td>4</td>\n",
       "      <td>2</td>\n",
       "      <td>2</td>\n",
       "      <td>...</td>\n",
       "      <td>4</td>\n",
       "      <td>1</td>\n",
       "      <td>23</td>\n",
       "      <td>3</td>\n",
       "      <td>1</td>\n",
       "      <td>1</td>\n",
       "      <td>2</td>\n",
       "      <td>1</td>\n",
       "      <td>1</td>\n",
       "      <td>1</td>\n",
       "    </tr>\n",
       "    <tr>\n",
       "      <th>3</th>\n",
       "      <td>1</td>\n",
       "      <td>1</td>\n",
       "      <td>12</td>\n",
       "      <td>4</td>\n",
       "      <td>0</td>\n",
       "      <td>2122</td>\n",
       "      <td>1</td>\n",
       "      <td>3</td>\n",
       "      <td>3</td>\n",
       "      <td>3</td>\n",
       "      <td>...</td>\n",
       "      <td>2</td>\n",
       "      <td>1</td>\n",
       "      <td>39</td>\n",
       "      <td>3</td>\n",
       "      <td>1</td>\n",
       "      <td>2</td>\n",
       "      <td>2</td>\n",
       "      <td>2</td>\n",
       "      <td>1</td>\n",
       "      <td>2</td>\n",
       "    </tr>\n",
       "    <tr>\n",
       "      <th>4</th>\n",
       "      <td>1</td>\n",
       "      <td>1</td>\n",
       "      <td>12</td>\n",
       "      <td>4</td>\n",
       "      <td>0</td>\n",
       "      <td>2171</td>\n",
       "      <td>1</td>\n",
       "      <td>3</td>\n",
       "      <td>4</td>\n",
       "      <td>3</td>\n",
       "      <td>...</td>\n",
       "      <td>4</td>\n",
       "      <td>2</td>\n",
       "      <td>38</td>\n",
       "      <td>1</td>\n",
       "      <td>2</td>\n",
       "      <td>2</td>\n",
       "      <td>2</td>\n",
       "      <td>1</td>\n",
       "      <td>1</td>\n",
       "      <td>2</td>\n",
       "    </tr>\n",
       "  </tbody>\n",
       "</table>\n",
       "<p>5 rows × 21 columns</p>\n",
       "</div>"
      ],
      "text/plain": [
       "   Creditability  Status_of_existing_account  Duration_of_Credit_month  \\\n",
       "0              1                           1                        18   \n",
       "1              1                           1                         9   \n",
       "2              1                           2                        12   \n",
       "3              1                           1                        12   \n",
       "4              1                           1                        12   \n",
       "\n",
       "   Payment_Status_of_Previous_Credit(Credit_history)  Purpose_of_loan  \\\n",
       "0                                                  4                2   \n",
       "1                                                  4                0   \n",
       "2                                                  2                9   \n",
       "3                                                  4                0   \n",
       "4                                                  4                0   \n",
       "\n",
       "   Credit_Amount  Value_of_Savings_account&bonds  Years_of_Present_Employment  \\\n",
       "0           1049                               1                            2   \n",
       "1           2799                               1                            3   \n",
       "2            841                               2                            4   \n",
       "3           2122                               1                            3   \n",
       "4           2171                               1                            3   \n",
       "\n",
       "   Percentage_of_disposable_income  Sex_&_Marital_Status       ...        \\\n",
       "0                                4                     2       ...         \n",
       "1                                2                     3       ...         \n",
       "2                                2                     2       ...         \n",
       "3                                3                     3       ...         \n",
       "4                                4                     3       ...         \n",
       "\n",
       "   Duration_in_Present_Residence  Property  Age_in_years  Concurrent_Credits  \\\n",
       "0                              4         2            21                   3   \n",
       "1                              2         1            36                   3   \n",
       "2                              4         1            23                   3   \n",
       "3                              2         1            39                   3   \n",
       "4                              4         2            38                   1   \n",
       "\n",
       "   Housing  No_of_Credits_at_this__Bank  Occupation  No_of_dependents  \\\n",
       "0        1                            1           3                 1   \n",
       "1        1                            2           3                 2   \n",
       "2        1                            1           2                 1   \n",
       "3        1                            2           2                 2   \n",
       "4        2                            2           2                 1   \n",
       "\n",
       "   Telephone  Foreign_Worker  \n",
       "0          1               1  \n",
       "1          1               1  \n",
       "2          1               1  \n",
       "3          1               2  \n",
       "4          1               2  \n",
       "\n",
       "[5 rows x 21 columns]"
      ]
     },
     "execution_count": 67,
     "metadata": {},
     "output_type": "execute_result"
    }
   ],
   "source": [
    "data.head()"
   ]
  },
  {
   "cell_type": "code",
   "execution_count": 68,
   "metadata": {},
   "outputs": [
    {
     "data": {
      "text/plain": [
       "Creditability                                        0\n",
       "Status_of_existing_account                           0\n",
       "Duration_of_Credit_month                             0\n",
       "Payment_Status_of_Previous_Credit(Credit_history)    0\n",
       "Purpose_of_loan                                      0\n",
       "Credit_Amount                                        0\n",
       "Value_of_Savings_account&bonds                       0\n",
       "Years_of_Present_Employment                          0\n",
       "Percentage_of_disposable_income                      0\n",
       "Sex_&_Marital_Status                                 0\n",
       "Guarantors/Debtors                                   0\n",
       "Duration_in_Present_Residence                        0\n",
       "Property                                             0\n",
       "Age_in_years                                         0\n",
       "Concurrent_Credits                                   0\n",
       "Housing                                              0\n",
       "No_of_Credits_at_this__Bank                          0\n",
       "Occupation                                           0\n",
       "No_of_dependents                                     0\n",
       "Telephone                                            0\n",
       "Foreign_Worker                                       0\n",
       "dtype: int64"
      ]
     },
     "execution_count": 68,
     "metadata": {},
     "output_type": "execute_result"
    }
   ],
   "source": [
    "data.isnull().sum()"
   ]
  },
  {
   "cell_type": "code",
   "execution_count": 69,
   "metadata": {},
   "outputs": [
    {
     "name": "stdout",
     "output_type": "stream",
     "text": [
      "Creditability\n",
      "Status_of_existing_account\n",
      "Duration_of_Credit_month\n",
      "Payment_Status_of_Previous_Credit(Credit_history)\n",
      "Purpose_of_loan\n",
      "Credit_Amount\n",
      "Value_of_Savings_account&bonds\n",
      "Years_of_Present_Employment\n",
      "Percentage_of_disposable_income\n",
      "Sex_&_Marital_Status\n",
      "Guarantors/Debtors\n",
      "Duration_in_Present_Residence\n",
      "Property\n",
      "Age_in_years\n",
      "Concurrent_Credits\n",
      "Housing\n",
      "No_of_Credits_at_this__Bank\n",
      "Occupation\n",
      "No_of_dependents\n",
      "Telephone\n",
      "Foreign_Worker\n"
     ]
    }
   ],
   "source": [
    "for col in data.columns :\n",
    "    print(col)\n",
    "    "
   ]
  },
  {
   "cell_type": "code",
   "execution_count": 107,
   "metadata": {},
   "outputs": [],
   "source": [
    "target_var = data[['Creditability']]\n",
    "#target_var=data[target_var1]"
   ]
  },
  {
   "cell_type": "code",
   "execution_count": 108,
   "metadata": {},
   "outputs": [],
   "source": [
    "pred_var = [x for x in data.columns if (x != 'Creditability')]"
   ]
  },
  {
   "cell_type": "code",
   "execution_count": 109,
   "metadata": {},
   "outputs": [],
   "source": [
    "pred_data = data[pred_var]"
   ]
  },
  {
   "cell_type": "code",
   "execution_count": 110,
   "metadata": {},
   "outputs": [
    {
     "name": "stdout",
     "output_type": "stream",
     "text": [
      "x_train  (700, 20)\n",
      "x_test  (300, 20)\n",
      "y_train  (700, 1)\n",
      "y_test  (300, 1)\n"
     ]
    }
   ],
   "source": [
    "from sklearn.cross_validation import train_test_split\n",
    "x_train,x_test,y_train,y_test = train_test_split(pred_data,target_var,test_size =0.30,random_state=0)\n",
    "print(\"x_train \",x_train.shape)\n",
    "print(\"x_test \",x_test.shape)\n",
    "print(\"y_train \",y_train.shape)\n",
    "print(\"y_test \",y_test.shape)"
   ]
  },
  {
   "cell_type": "code",
   "execution_count": 111,
   "metadata": {},
   "outputs": [
    {
     "data": {
      "text/html": [
       "<table class=\"simpletable\">\n",
       "<caption>Generalized Linear Model Regression Results</caption>\n",
       "<tr>\n",
       "  <th>Dep. Variable:</th>    <td>Creditability</td>  <th>  No. Observations:  </th>  <td>   700</td> \n",
       "</tr>\n",
       "<tr>\n",
       "  <th>Model:</th>                 <td>GLM</td>       <th>  Df Residuals:      </th>  <td>   679</td> \n",
       "</tr>\n",
       "<tr>\n",
       "  <th>Model Family:</th>       <td>Binomial</td>     <th>  Df Model:          </th>  <td>    20</td> \n",
       "</tr>\n",
       "<tr>\n",
       "  <th>Link Function:</th>        <td>logit</td>      <th>  Scale:             </th>    <td>1.0</td>  \n",
       "</tr>\n",
       "<tr>\n",
       "  <th>Method:</th>               <td>IRLS</td>       <th>  Log-Likelihood:    </th> <td> -330.30</td>\n",
       "</tr>\n",
       "<tr>\n",
       "  <th>Date:</th>           <td>Fri, 31 Aug 2018</td> <th>  Deviance:          </th> <td>  660.60</td>\n",
       "</tr>\n",
       "<tr>\n",
       "  <th>Time:</th>               <td>11:59:55</td>     <th>  Pearson chi2:      </th>  <td>  713.</td> \n",
       "</tr>\n",
       "<tr>\n",
       "  <th>No. Iterations:</th>         <td>5</td>        <th>                     </th>     <td> </td>   \n",
       "</tr>\n",
       "</table>\n",
       "<table class=\"simpletable\">\n",
       "<tr>\n",
       "                          <td></td>                             <th>coef</th>     <th>std err</th>      <th>z</th>      <th>P>|z|</th>  <th>[0.025</th>    <th>0.975]</th>  \n",
       "</tr>\n",
       "<tr>\n",
       "  <th>const</th>                                             <td>   -4.0125</td> <td>    1.210</td> <td>   -3.317</td> <td> 0.001</td> <td>   -6.383</td> <td>   -1.642</td>\n",
       "</tr>\n",
       "<tr>\n",
       "  <th>Status_of_existing_account</th>                        <td>    0.5401</td> <td>    0.084</td> <td>    6.458</td> <td> 0.000</td> <td>    0.376</td> <td>    0.704</td>\n",
       "</tr>\n",
       "<tr>\n",
       "  <th>Duration_of_Credit_month</th>                          <td>   -0.0247</td> <td>    0.010</td> <td>   -2.372</td> <td> 0.018</td> <td>   -0.045</td> <td>   -0.004</td>\n",
       "</tr>\n",
       "<tr>\n",
       "  <th>Payment_Status_of_Previous_Credit(Credit_history)</th> <td>    0.2549</td> <td>    0.106</td> <td>    2.396</td> <td> 0.017</td> <td>    0.046</td> <td>    0.463</td>\n",
       "</tr>\n",
       "<tr>\n",
       "  <th>Purpose_of_loan</th>                                   <td>    0.0416</td> <td>    0.037</td> <td>    1.138</td> <td> 0.255</td> <td>   -0.030</td> <td>    0.113</td>\n",
       "</tr>\n",
       "<tr>\n",
       "  <th>Credit_Amount</th>                                     <td>-7.104e-05</td> <td> 4.58e-05</td> <td>   -1.552</td> <td> 0.121</td> <td>   -0.000</td> <td> 1.87e-05</td>\n",
       "</tr>\n",
       "<tr>\n",
       "  <th>Value_of_Savings_account&bonds</th>                    <td>    0.2325</td> <td>    0.071</td> <td>    3.281</td> <td> 0.001</td> <td>    0.094</td> <td>    0.371</td>\n",
       "</tr>\n",
       "<tr>\n",
       "  <th>Years_of_Present_Employment</th>                       <td>    0.2133</td> <td>    0.089</td> <td>    2.384</td> <td> 0.017</td> <td>    0.038</td> <td>    0.389</td>\n",
       "</tr>\n",
       "<tr>\n",
       "  <th>Percentage_of_disposable_income</th>                   <td>   -0.4256</td> <td>    0.102</td> <td>   -4.158</td> <td> 0.000</td> <td>   -0.626</td> <td>   -0.225</td>\n",
       "</tr>\n",
       "<tr>\n",
       "  <th>Sex_&_Marital_Status</th>                              <td>    0.2887</td> <td>    0.146</td> <td>    1.980</td> <td> 0.048</td> <td>    0.003</td> <td>    0.574</td>\n",
       "</tr>\n",
       "<tr>\n",
       "  <th>Guarantors/Debtors</th>                                <td>    0.2445</td> <td>    0.211</td> <td>    1.158</td> <td> 0.247</td> <td>   -0.169</td> <td>    0.658</td>\n",
       "</tr>\n",
       "<tr>\n",
       "  <th>Duration_in_Present_Residence</th>                     <td>   -0.0801</td> <td>    0.094</td> <td>   -0.850</td> <td> 0.395</td> <td>   -0.265</td> <td>    0.105</td>\n",
       "</tr>\n",
       "<tr>\n",
       "  <th>Property</th>                                          <td>   -0.2217</td> <td>    0.111</td> <td>   -2.003</td> <td> 0.045</td> <td>   -0.439</td> <td>   -0.005</td>\n",
       "</tr>\n",
       "<tr>\n",
       "  <th>Age_in_years</th>                                      <td>    0.0174</td> <td>    0.011</td> <td>    1.641</td> <td> 0.101</td> <td>   -0.003</td> <td>    0.038</td>\n",
       "</tr>\n",
       "<tr>\n",
       "  <th>Concurrent_Credits</th>                                <td>    0.3053</td> <td>    0.137</td> <td>    2.234</td> <td> 0.025</td> <td>    0.037</td> <td>    0.573</td>\n",
       "</tr>\n",
       "<tr>\n",
       "  <th>Housing</th>                                           <td>    0.2072</td> <td>    0.205</td> <td>    1.011</td> <td> 0.312</td> <td>   -0.195</td> <td>    0.609</td>\n",
       "</tr>\n",
       "<tr>\n",
       "  <th>No_of_Credits_at_this__Bank</th>                       <td>    0.0275</td> <td>    0.198</td> <td>    0.139</td> <td> 0.889</td> <td>   -0.360</td> <td>    0.415</td>\n",
       "</tr>\n",
       "<tr>\n",
       "  <th>Occupation</th>                                        <td>    0.1546</td> <td>    0.169</td> <td>    0.916</td> <td> 0.360</td> <td>   -0.176</td> <td>    0.485</td>\n",
       "</tr>\n",
       "<tr>\n",
       "  <th>No_of_dependents</th>                                  <td>   -0.2501</td> <td>    0.282</td> <td>   -0.888</td> <td> 0.375</td> <td>   -0.802</td> <td>    0.302</td>\n",
       "</tr>\n",
       "<tr>\n",
       "  <th>Telephone</th>                                         <td>    0.2313</td> <td>    0.228</td> <td>    1.015</td> <td> 0.310</td> <td>   -0.215</td> <td>    0.678</td>\n",
       "</tr>\n",
       "<tr>\n",
       "  <th>Foreign_Worker</th>                                    <td>    1.1964</td> <td>    0.693</td> <td>    1.727</td> <td> 0.084</td> <td>   -0.161</td> <td>    2.554</td>\n",
       "</tr>\n",
       "</table>"
      ],
      "text/plain": [
       "<class 'statsmodels.iolib.summary.Summary'>\n",
       "\"\"\"\n",
       "                 Generalized Linear Model Regression Results                  \n",
       "==============================================================================\n",
       "Dep. Variable:          Creditability   No. Observations:                  700\n",
       "Model:                            GLM   Df Residuals:                      679\n",
       "Model Family:                Binomial   Df Model:                           20\n",
       "Link Function:                  logit   Scale:                             1.0\n",
       "Method:                          IRLS   Log-Likelihood:                -330.30\n",
       "Date:                Fri, 31 Aug 2018   Deviance:                       660.60\n",
       "Time:                        11:59:55   Pearson chi2:                     713.\n",
       "No. Iterations:                     5                                         \n",
       "=====================================================================================================================\n",
       "                                                        coef    std err          z      P>|z|      [0.025      0.975]\n",
       "---------------------------------------------------------------------------------------------------------------------\n",
       "const                                                -4.0125      1.210     -3.317      0.001      -6.383      -1.642\n",
       "Status_of_existing_account                            0.5401      0.084      6.458      0.000       0.376       0.704\n",
       "Duration_of_Credit_month                             -0.0247      0.010     -2.372      0.018      -0.045      -0.004\n",
       "Payment_Status_of_Previous_Credit(Credit_history)     0.2549      0.106      2.396      0.017       0.046       0.463\n",
       "Purpose_of_loan                                       0.0416      0.037      1.138      0.255      -0.030       0.113\n",
       "Credit_Amount                                     -7.104e-05   4.58e-05     -1.552      0.121      -0.000    1.87e-05\n",
       "Value_of_Savings_account&bonds                        0.2325      0.071      3.281      0.001       0.094       0.371\n",
       "Years_of_Present_Employment                           0.2133      0.089      2.384      0.017       0.038       0.389\n",
       "Percentage_of_disposable_income                      -0.4256      0.102     -4.158      0.000      -0.626      -0.225\n",
       "Sex_&_Marital_Status                                  0.2887      0.146      1.980      0.048       0.003       0.574\n",
       "Guarantors/Debtors                                    0.2445      0.211      1.158      0.247      -0.169       0.658\n",
       "Duration_in_Present_Residence                        -0.0801      0.094     -0.850      0.395      -0.265       0.105\n",
       "Property                                             -0.2217      0.111     -2.003      0.045      -0.439      -0.005\n",
       "Age_in_years                                          0.0174      0.011      1.641      0.101      -0.003       0.038\n",
       "Concurrent_Credits                                    0.3053      0.137      2.234      0.025       0.037       0.573\n",
       "Housing                                               0.2072      0.205      1.011      0.312      -0.195       0.609\n",
       "No_of_Credits_at_this__Bank                           0.0275      0.198      0.139      0.889      -0.360       0.415\n",
       "Occupation                                            0.1546      0.169      0.916      0.360      -0.176       0.485\n",
       "No_of_dependents                                     -0.2501      0.282     -0.888      0.375      -0.802       0.302\n",
       "Telephone                                             0.2313      0.228      1.015      0.310      -0.215       0.678\n",
       "Foreign_Worker                                        1.1964      0.693      1.727      0.084      -0.161       2.554\n",
       "=====================================================================================================================\n",
       "\"\"\""
      ]
     },
     "execution_count": 111,
     "metadata": {},
     "output_type": "execute_result"
    }
   ],
   "source": [
    "import statsmodels.api as sm\n",
    "logm1 = sm.GLM(y_train,(sm.add_constant(x_train)), family = sm.families.Binomial())\n",
    "logm1.fit().summary()"
   ]
  },
  {
   "cell_type": "code",
   "execution_count": 197,
   "metadata": {},
   "outputs": [
    {
     "name": "stdout",
     "output_type": "stream",
     "text": [
      "[ True False  True False False  True False  True  True  True False  True\n",
      " False False  True  True False  True  True  True]\n",
      "[1 5 1 6 9 1 3 1 1 1 7 1 8 4 1 1 2 1 1 1]\n"
     ]
    },
    {
     "name": "stderr",
     "output_type": "stream",
     "text": [
      "C:\\Users\\SACHIN\\Anaconda3.6\\lib\\site-packages\\sklearn\\utils\\validation.py:578: DataConversionWarning: A column-vector y was passed when a 1d array was expected. Please change the shape of y to (n_samples, ), for example using ravel().\n",
      "  y = column_or_1d(y, warn=True)\n"
     ]
    }
   ],
   "source": [
    "from sklearn.linear_model import LogisticRegression\n",
    "logreg = LogisticRegression()\n",
    "from sklearn.feature_selection import RFE\n",
    "rfe = RFE(logreg, 12)             # running RFE with 13 variables as output\n",
    "rfe = rfe.fit(pred_data,target_var)\n",
    "print(rfe.support_)           # Printing the boolean results\n",
    "print(rfe.ranking_) "
   ]
  },
  {
   "cell_type": "code",
   "execution_count": 113,
   "metadata": {},
   "outputs": [
    {
     "data": {
      "text/plain": [
       "Index(['Status_of_existing_account', 'Duration_of_Credit_month',\n",
       "       'Payment_Status_of_Previous_Credit(Credit_history)', 'Purpose_of_loan',\n",
       "       'Credit_Amount', 'Value_of_Savings_account&bonds',\n",
       "       'Years_of_Present_Employment', 'Percentage_of_disposable_income',\n",
       "       'Sex_&_Marital_Status', 'Guarantors/Debtors',\n",
       "       'Duration_in_Present_Residence', 'Property', 'Age_in_years',\n",
       "       'Concurrent_Credits', 'Housing', 'No_of_Credits_at_this__Bank',\n",
       "       'Occupation', 'No_of_dependents', 'Telephone', 'Foreign_Worker'],\n",
       "      dtype='object')"
      ]
     },
     "execution_count": 113,
     "metadata": {},
     "output_type": "execute_result"
    }
   ],
   "source": [
    "pred_data.columns\n"
   ]
  },
  {
   "cell_type": "code",
   "execution_count": 208,
   "metadata": {},
   "outputs": [],
   "source": [
    "col = ['Status_of_existing_account',\n",
    "       'Payment_Status_of_Previous_Credit(Credit_history)', \n",
    "        'Value_of_Savings_account&bonds',\n",
    "        'Percentage_of_disposable_income',\n",
    "       'Sex_&_Marital_Status', 'Guarantors/Debtors',\n",
    "        'Property', \n",
    "       'Housing', 'No_of_Credits_at_this__Bank',\n",
    "        'No_of_dependents', 'Telephone', 'Foreign_Worker']\n",
    "pred_data =pred_data[col]\n"
   ]
  },
  {
   "cell_type": "code",
   "execution_count": 209,
   "metadata": {},
   "outputs": [
    {
     "name": "stderr",
     "output_type": "stream",
     "text": [
      "C:\\Users\\SACHIN\\Anaconda3.6\\lib\\site-packages\\sklearn\\utils\\validation.py:578: DataConversionWarning: A column-vector y was passed when a 1d array was expected. Please change the shape of y to (n_samples, ), for example using ravel().\n",
      "  y = column_or_1d(y, warn=True)\n"
     ]
    },
    {
     "data": {
      "text/plain": [
       "LogisticRegression(C=1.0, class_weight=None, dual=False, fit_intercept=True,\n",
       "          intercept_scaling=1, max_iter=100, multi_class='ovr', n_jobs=1,\n",
       "          penalty='l2', random_state=None, solver='liblinear', tol=0.0001,\n",
       "          verbose=0, warm_start=False)"
      ]
     },
     "execution_count": 209,
     "metadata": {},
     "output_type": "execute_result"
    }
   ],
   "source": [
    "# Let's run the model using the selected variables\n",
    "from sklearn.linear_model import LogisticRegression\n",
    "from sklearn import metrics\n",
    "logsk = LogisticRegression()\n",
    "#x_train=x_train[col]\n",
    "logsk.fit(x_train[col], y_train)"
   ]
  },
  {
   "cell_type": "code",
   "execution_count": 210,
   "metadata": {},
   "outputs": [
    {
     "data": {
      "text/html": [
       "<table class=\"simpletable\">\n",
       "<caption>Generalized Linear Model Regression Results</caption>\n",
       "<tr>\n",
       "  <th>Dep. Variable:</th>    <td>Creditability</td>  <th>  No. Observations:  </th>  <td>   700</td> \n",
       "</tr>\n",
       "<tr>\n",
       "  <th>Model:</th>                 <td>GLM</td>       <th>  Df Residuals:      </th>  <td>   687</td> \n",
       "</tr>\n",
       "<tr>\n",
       "  <th>Model Family:</th>       <td>Binomial</td>     <th>  Df Model:          </th>  <td>    12</td> \n",
       "</tr>\n",
       "<tr>\n",
       "  <th>Link Function:</th>        <td>logit</td>      <th>  Scale:             </th>    <td>1.0</td>  \n",
       "</tr>\n",
       "<tr>\n",
       "  <th>Method:</th>               <td>IRLS</td>       <th>  Log-Likelihood:    </th> <td> -348.61</td>\n",
       "</tr>\n",
       "<tr>\n",
       "  <th>Date:</th>           <td>Fri, 31 Aug 2018</td> <th>  Deviance:          </th> <td>  697.21</td>\n",
       "</tr>\n",
       "<tr>\n",
       "  <th>Time:</th>               <td>14:06:15</td>     <th>  Pearson chi2:      </th>  <td>  704.</td> \n",
       "</tr>\n",
       "<tr>\n",
       "  <th>No. Iterations:</th>         <td>5</td>        <th>                     </th>     <td> </td>   \n",
       "</tr>\n",
       "</table>\n",
       "<table class=\"simpletable\">\n",
       "<tr>\n",
       "                          <td></td>                             <th>coef</th>     <th>std err</th>      <th>z</th>      <th>P>|z|</th>  <th>[0.025</th>    <th>0.975]</th>  \n",
       "</tr>\n",
       "<tr>\n",
       "  <th>const</th>                                             <td>   -2.5074</td> <td>    0.972</td> <td>   -2.580</td> <td> 0.010</td> <td>   -4.412</td> <td>   -0.602</td>\n",
       "</tr>\n",
       "<tr>\n",
       "  <th>Status_of_existing_account</th>                        <td>    0.5604</td> <td>    0.080</td> <td>    6.975</td> <td> 0.000</td> <td>    0.403</td> <td>    0.718</td>\n",
       "</tr>\n",
       "<tr>\n",
       "  <th>Payment_Status_of_Previous_Credit(Credit_history)</th> <td>    0.3728</td> <td>    0.100</td> <td>    3.711</td> <td> 0.000</td> <td>    0.176</td> <td>    0.570</td>\n",
       "</tr>\n",
       "<tr>\n",
       "  <th>Value_of_Savings_account&bonds</th>                    <td>    0.2101</td> <td>    0.068</td> <td>    3.082</td> <td> 0.002</td> <td>    0.076</td> <td>    0.344</td>\n",
       "</tr>\n",
       "<tr>\n",
       "  <th>Percentage_of_disposable_income</th>                   <td>   -0.3090</td> <td>    0.089</td> <td>   -3.466</td> <td> 0.001</td> <td>   -0.484</td> <td>   -0.134</td>\n",
       "</tr>\n",
       "<tr>\n",
       "  <th>Sex_&_Marital_Status</th>                              <td>    0.2559</td> <td>    0.138</td> <td>    1.851</td> <td> 0.064</td> <td>   -0.015</td> <td>    0.527</td>\n",
       "</tr>\n",
       "<tr>\n",
       "  <th>Guarantors/Debtors</th>                                <td>    0.2178</td> <td>    0.203</td> <td>    1.071</td> <td> 0.284</td> <td>   -0.181</td> <td>    0.616</td>\n",
       "</tr>\n",
       "<tr>\n",
       "  <th>Property</th>                                          <td>   -0.3140</td> <td>    0.101</td> <td>   -3.120</td> <td> 0.002</td> <td>   -0.511</td> <td>   -0.117</td>\n",
       "</tr>\n",
       "<tr>\n",
       "  <th>Housing</th>                                           <td>    0.2286</td> <td>    0.188</td> <td>    1.215</td> <td> 0.224</td> <td>   -0.140</td> <td>    0.597</td>\n",
       "</tr>\n",
       "<tr>\n",
       "  <th>No_of_Credits_at_this__Bank</th>                       <td>   -0.0161</td> <td>    0.185</td> <td>   -0.087</td> <td> 0.931</td> <td>   -0.380</td> <td>    0.347</td>\n",
       "</tr>\n",
       "<tr>\n",
       "  <th>No_of_dependents</th>                                  <td>   -0.1246</td> <td>    0.269</td> <td>   -0.463</td> <td> 0.643</td> <td>   -0.652</td> <td>    0.403</td>\n",
       "</tr>\n",
       "<tr>\n",
       "  <th>Telephone</th>                                         <td>    0.1867</td> <td>    0.198</td> <td>    0.944</td> <td> 0.345</td> <td>   -0.201</td> <td>    0.574</td>\n",
       "</tr>\n",
       "<tr>\n",
       "  <th>Foreign_Worker</th>                                    <td>    0.9807</td> <td>    0.655</td> <td>    1.497</td> <td> 0.134</td> <td>   -0.304</td> <td>    2.265</td>\n",
       "</tr>\n",
       "</table>"
      ],
      "text/plain": [
       "<class 'statsmodels.iolib.summary.Summary'>\n",
       "\"\"\"\n",
       "                 Generalized Linear Model Regression Results                  \n",
       "==============================================================================\n",
       "Dep. Variable:          Creditability   No. Observations:                  700\n",
       "Model:                            GLM   Df Residuals:                      687\n",
       "Model Family:                Binomial   Df Model:                           12\n",
       "Link Function:                  logit   Scale:                             1.0\n",
       "Method:                          IRLS   Log-Likelihood:                -348.61\n",
       "Date:                Fri, 31 Aug 2018   Deviance:                       697.21\n",
       "Time:                        14:06:15   Pearson chi2:                     704.\n",
       "No. Iterations:                     5                                         \n",
       "=====================================================================================================================\n",
       "                                                        coef    std err          z      P>|z|      [0.025      0.975]\n",
       "---------------------------------------------------------------------------------------------------------------------\n",
       "const                                                -2.5074      0.972     -2.580      0.010      -4.412      -0.602\n",
       "Status_of_existing_account                            0.5604      0.080      6.975      0.000       0.403       0.718\n",
       "Payment_Status_of_Previous_Credit(Credit_history)     0.3728      0.100      3.711      0.000       0.176       0.570\n",
       "Value_of_Savings_account&bonds                        0.2101      0.068      3.082      0.002       0.076       0.344\n",
       "Percentage_of_disposable_income                      -0.3090      0.089     -3.466      0.001      -0.484      -0.134\n",
       "Sex_&_Marital_Status                                  0.2559      0.138      1.851      0.064      -0.015       0.527\n",
       "Guarantors/Debtors                                    0.2178      0.203      1.071      0.284      -0.181       0.616\n",
       "Property                                             -0.3140      0.101     -3.120      0.002      -0.511      -0.117\n",
       "Housing                                               0.2286      0.188      1.215      0.224      -0.140       0.597\n",
       "No_of_Credits_at_this__Bank                          -0.0161      0.185     -0.087      0.931      -0.380       0.347\n",
       "No_of_dependents                                     -0.1246      0.269     -0.463      0.643      -0.652       0.403\n",
       "Telephone                                             0.1867      0.198      0.944      0.345      -0.201       0.574\n",
       "Foreign_Worker                                        0.9807      0.655      1.497      0.134      -0.304       2.265\n",
       "=====================================================================================================================\n",
       "\"\"\""
      ]
     },
     "execution_count": 210,
     "metadata": {},
     "output_type": "execute_result"
    }
   ],
   "source": [
    "logm4 = sm.GLM(y_train,(sm.add_constant(x_train[col])), family = sm.families.Binomial())\n",
    "logm4.fit().summary()"
   ]
  },
  {
   "cell_type": "code",
   "execution_count": 211,
   "metadata": {},
   "outputs": [
    {
     "name": "stdout",
     "output_type": "stream",
     "text": [
      "\n",
      "Variance Inflation Factor\n",
      "Status_of_existing_account 5.569\n",
      "Payment_Status_of_Previous_Credit(Credit_history) 8.39\n",
      "Value_of_Savings_account&bonds 2.958\n",
      "Percentage_of_disposable_income 7.776\n",
      "Sex_&_Marital_Status 15.437\n",
      "Guarantors/Debtors 6.756\n",
      "Property 7.069\n",
      "Housing 15.843\n",
      "No_of_Credits_at_this__Bank 8.622\n",
      "No_of_dependents 11.242\n",
      "Telephone 9.158\n",
      "Foreign_Worker 21.735\n"
     ]
    }
   ],
   "source": [
    "print (\"\\nVariance Inflation Factor\")\n",
    "cnames = pred_data.columns\n",
    "for i in np.arange(0,len(cnames)):\n",
    "    xvars = list(cnames)\n",
    "    yvar = xvars.pop(i)\n",
    "    mod = sm.OLS(pred_data[yvar],(pred_data[xvars]))\n",
    "    res = mod.fit()\n",
    "    vif = 1/(1-res.rsquared)\n",
    "    print (yvar,round(vif,3))"
   ]
  },
  {
   "cell_type": "code",
   "execution_count": 212,
   "metadata": {},
   "outputs": [],
   "source": [
    "col = [ \n",
    "       'Sex_&_Marital_Status',\n",
    "       'No_of_dependents','Foreign_Worker']"
   ]
  },
  {
   "cell_type": "code",
   "execution_count": 213,
   "metadata": {},
   "outputs": [
    {
     "data": {
      "text/html": [
       "<table class=\"simpletable\">\n",
       "<caption>Generalized Linear Model Regression Results</caption>\n",
       "<tr>\n",
       "  <th>Dep. Variable:</th>    <td>Creditability</td>  <th>  No. Observations:  </th>  <td>   700</td> \n",
       "</tr>\n",
       "<tr>\n",
       "  <th>Model:</th>                 <td>GLM</td>       <th>  Df Residuals:      </th>  <td>   696</td> \n",
       "</tr>\n",
       "<tr>\n",
       "  <th>Model Family:</th>       <td>Binomial</td>     <th>  Df Model:          </th>  <td>     3</td> \n",
       "</tr>\n",
       "<tr>\n",
       "  <th>Link Function:</th>        <td>logit</td>      <th>  Scale:             </th>    <td>1.0</td>  \n",
       "</tr>\n",
       "<tr>\n",
       "  <th>Method:</th>               <td>IRLS</td>       <th>  Log-Likelihood:    </th> <td> -413.54</td>\n",
       "</tr>\n",
       "<tr>\n",
       "  <th>Date:</th>           <td>Fri, 31 Aug 2018</td> <th>  Deviance:          </th> <td>  827.08</td>\n",
       "</tr>\n",
       "<tr>\n",
       "  <th>Time:</th>               <td>14:06:25</td>     <th>  Pearson chi2:      </th>  <td>  701.</td> \n",
       "</tr>\n",
       "<tr>\n",
       "  <th>No. Iterations:</th>         <td>5</td>        <th>                     </th>     <td> </td>   \n",
       "</tr>\n",
       "</table>\n",
       "<table class=\"simpletable\">\n",
       "<tr>\n",
       "            <td></td>              <th>coef</th>     <th>std err</th>      <th>z</th>      <th>P>|z|</th>  <th>[0.025</th>    <th>0.975]</th>  \n",
       "</tr>\n",
       "<tr>\n",
       "  <th>const</th>                <td>   -0.9921</td> <td>    0.721</td> <td>   -1.375</td> <td> 0.169</td> <td>   -2.406</td> <td>    0.422</td>\n",
       "</tr>\n",
       "<tr>\n",
       "  <th>Sex_&_Marital_Status</th> <td>    0.2582</td> <td>    0.122</td> <td>    2.122</td> <td> 0.034</td> <td>    0.020</td> <td>    0.497</td>\n",
       "</tr>\n",
       "<tr>\n",
       "  <th>No_of_dependents</th>     <td>   -0.0182</td> <td>    0.234</td> <td>   -0.078</td> <td> 0.938</td> <td>   -0.476</td> <td>    0.440</td>\n",
       "</tr>\n",
       "<tr>\n",
       "  <th>Foreign_Worker</th>       <td>    1.2046</td> <td>    0.618</td> <td>    1.950</td> <td> 0.051</td> <td>   -0.006</td> <td>    2.415</td>\n",
       "</tr>\n",
       "</table>"
      ],
      "text/plain": [
       "<class 'statsmodels.iolib.summary.Summary'>\n",
       "\"\"\"\n",
       "                 Generalized Linear Model Regression Results                  \n",
       "==============================================================================\n",
       "Dep. Variable:          Creditability   No. Observations:                  700\n",
       "Model:                            GLM   Df Residuals:                      696\n",
       "Model Family:                Binomial   Df Model:                            3\n",
       "Link Function:                  logit   Scale:                             1.0\n",
       "Method:                          IRLS   Log-Likelihood:                -413.54\n",
       "Date:                Fri, 31 Aug 2018   Deviance:                       827.08\n",
       "Time:                        14:06:25   Pearson chi2:                     701.\n",
       "No. Iterations:                     5                                         \n",
       "========================================================================================\n",
       "                           coef    std err          z      P>|z|      [0.025      0.975]\n",
       "----------------------------------------------------------------------------------------\n",
       "const                   -0.9921      0.721     -1.375      0.169      -2.406       0.422\n",
       "Sex_&_Marital_Status     0.2582      0.122      2.122      0.034       0.020       0.497\n",
       "No_of_dependents        -0.0182      0.234     -0.078      0.938      -0.476       0.440\n",
       "Foreign_Worker           1.2046      0.618      1.950      0.051      -0.006       2.415\n",
       "========================================================================================\n",
       "\"\"\""
      ]
     },
     "execution_count": 213,
     "metadata": {},
     "output_type": "execute_result"
    }
   ],
   "source": [
    "logm5 = sm.GLM(y_train,(sm.add_constant(x_train[col])), family = sm.families.Binomial())\n",
    "logm5.fit().summary()"
   ]
  },
  {
   "cell_type": "code",
   "execution_count": 214,
   "metadata": {},
   "outputs": [
    {
     "name": "stderr",
     "output_type": "stream",
     "text": [
      "C:\\Users\\SACHIN\\Anaconda3.6\\lib\\site-packages\\sklearn\\utils\\validation.py:578: DataConversionWarning: A column-vector y was passed when a 1d array was expected. Please change the shape of y to (n_samples, ), for example using ravel().\n",
      "  y = column_or_1d(y, warn=True)\n"
     ]
    },
    {
     "data": {
      "text/plain": [
       "LogisticRegression(C=1.0, class_weight=None, dual=False, fit_intercept=True,\n",
       "          intercept_scaling=1, max_iter=100, multi_class='ovr', n_jobs=1,\n",
       "          penalty='l2', random_state=None, solver='liblinear', tol=0.0001,\n",
       "          verbose=0, warm_start=False)"
      ]
     },
     "execution_count": 214,
     "metadata": {},
     "output_type": "execute_result"
    }
   ],
   "source": [
    "# Let's run the model using the selected variables\n",
    "from sklearn.linear_model import LogisticRegression\n",
    "from sklearn import metrics\n",
    "logsk = LogisticRegression()\n",
    "logsk.fit(x_train[col], y_train)"
   ]
  },
  {
   "cell_type": "code",
   "execution_count": 215,
   "metadata": {},
   "outputs": [],
   "source": [
    "# Predicted probabilities\n",
    "y_pred = logsk.predict_proba(x_test[col])"
   ]
  },
  {
   "cell_type": "code",
   "execution_count": 216,
   "metadata": {},
   "outputs": [],
   "source": [
    "# Converting y_pred to a dataframe which is an array\n",
    "y_pred_df = pd.DataFrame(y_pred)"
   ]
  },
  {
   "cell_type": "code",
   "execution_count": 217,
   "metadata": {},
   "outputs": [],
   "source": [
    "# Converting to column dataframe\n",
    "y_pred_1 = y_pred_df.iloc[:,[1]]"
   ]
  },
  {
   "cell_type": "code",
   "execution_count": 218,
   "metadata": {},
   "outputs": [
    {
     "data": {
      "text/html": [
       "<div>\n",
       "<style scoped>\n",
       "    .dataframe tbody tr th:only-of-type {\n",
       "        vertical-align: middle;\n",
       "    }\n",
       "\n",
       "    .dataframe tbody tr th {\n",
       "        vertical-align: top;\n",
       "    }\n",
       "\n",
       "    .dataframe thead th {\n",
       "        text-align: right;\n",
       "    }\n",
       "</style>\n",
       "<table border=\"1\" class=\"dataframe\">\n",
       "  <thead>\n",
       "    <tr style=\"text-align: right;\">\n",
       "      <th></th>\n",
       "      <th>1</th>\n",
       "    </tr>\n",
       "  </thead>\n",
       "  <tbody>\n",
       "    <tr>\n",
       "      <th>0</th>\n",
       "      <td>0.676195</td>\n",
       "    </tr>\n",
       "    <tr>\n",
       "      <th>1</th>\n",
       "      <td>0.772269</td>\n",
       "    </tr>\n",
       "    <tr>\n",
       "      <th>2</th>\n",
       "      <td>0.676195</td>\n",
       "    </tr>\n",
       "    <tr>\n",
       "      <th>3</th>\n",
       "      <td>0.676195</td>\n",
       "    </tr>\n",
       "    <tr>\n",
       "      <th>4</th>\n",
       "      <td>0.668617</td>\n",
       "    </tr>\n",
       "  </tbody>\n",
       "</table>\n",
       "</div>"
      ],
      "text/plain": [
       "          1\n",
       "0  0.676195\n",
       "1  0.772269\n",
       "2  0.676195\n",
       "3  0.676195\n",
       "4  0.668617"
      ]
     },
     "execution_count": 218,
     "metadata": {},
     "output_type": "execute_result"
    }
   ],
   "source": [
    "# Let's see the head\n",
    "y_pred_1.head()"
   ]
  },
  {
   "cell_type": "code",
   "execution_count": 219,
   "metadata": {},
   "outputs": [],
   "source": [
    "# Converting y_test to dataframe\n",
    "y_test_df = pd.DataFrame(y_test)"
   ]
  },
  {
   "cell_type": "code",
   "execution_count": 220,
   "metadata": {},
   "outputs": [],
   "source": [
    "# Removing index for both dataframes to append them side by side \n",
    "y_pred_1.reset_index(drop=True, inplace=True)\n",
    "y_test_df.reset_index(drop=True, inplace=True)"
   ]
  },
  {
   "cell_type": "code",
   "execution_count": 221,
   "metadata": {},
   "outputs": [],
   "source": [
    "# Appending y_test_df and y_pred_1\n",
    "y_pred_final = pd.concat([y_test_df,y_pred_1],axis=1)"
   ]
  },
  {
   "cell_type": "code",
   "execution_count": 222,
   "metadata": {},
   "outputs": [],
   "source": [
    "# Renaming the column \n",
    "y_pred_final= y_pred_final.rename(columns={ 1 : 'Creditability_Prob'})"
   ]
  },
  {
   "cell_type": "code",
   "execution_count": 223,
   "metadata": {},
   "outputs": [
    {
     "name": "stderr",
     "output_type": "stream",
     "text": [
      "C:\\Users\\SACHIN\\Anaconda3.6\\lib\\site-packages\\ipykernel_launcher.py:2: FutureWarning: '.reindex_axis' is deprecated and will be removed in a future version. Use '.reindex' instead.\n",
      "  \n"
     ]
    }
   ],
   "source": [
    "# Rearranging the columns\n",
    "y_pred_final = y_pred_final.reindex_axis(['Creditability','Creditability_Prob'], axis=1)"
   ]
  },
  {
   "cell_type": "code",
   "execution_count": 224,
   "metadata": {},
   "outputs": [
    {
     "data": {
      "text/html": [
       "<div>\n",
       "<style scoped>\n",
       "    .dataframe tbody tr th:only-of-type {\n",
       "        vertical-align: middle;\n",
       "    }\n",
       "\n",
       "    .dataframe tbody tr th {\n",
       "        vertical-align: top;\n",
       "    }\n",
       "\n",
       "    .dataframe thead th {\n",
       "        text-align: right;\n",
       "    }\n",
       "</style>\n",
       "<table border=\"1\" class=\"dataframe\">\n",
       "  <thead>\n",
       "    <tr style=\"text-align: right;\">\n",
       "      <th></th>\n",
       "      <th>Creditability</th>\n",
       "      <th>Creditability_Prob</th>\n",
       "    </tr>\n",
       "  </thead>\n",
       "  <tbody>\n",
       "    <tr>\n",
       "      <th>0</th>\n",
       "      <td>0</td>\n",
       "      <td>0.676195</td>\n",
       "    </tr>\n",
       "    <tr>\n",
       "      <th>1</th>\n",
       "      <td>0</td>\n",
       "      <td>0.772269</td>\n",
       "    </tr>\n",
       "    <tr>\n",
       "      <th>2</th>\n",
       "      <td>1</td>\n",
       "      <td>0.676195</td>\n",
       "    </tr>\n",
       "    <tr>\n",
       "      <th>3</th>\n",
       "      <td>1</td>\n",
       "      <td>0.676195</td>\n",
       "    </tr>\n",
       "    <tr>\n",
       "      <th>4</th>\n",
       "      <td>1</td>\n",
       "      <td>0.668617</td>\n",
       "    </tr>\n",
       "  </tbody>\n",
       "</table>\n",
       "</div>"
      ],
      "text/plain": [
       "   Creditability  Creditability_Prob\n",
       "0              0            0.676195\n",
       "1              0            0.772269\n",
       "2              1            0.676195\n",
       "3              1            0.676195\n",
       "4              1            0.668617"
      ]
     },
     "execution_count": 224,
     "metadata": {},
     "output_type": "execute_result"
    }
   ],
   "source": [
    "y_pred_final.head()"
   ]
  },
  {
   "cell_type": "code",
   "execution_count": 225,
   "metadata": {},
   "outputs": [],
   "source": [
    "# Creating new column 'predicted' with 1 if Churn_Prob>0.5 else 0\n",
    "y_pred_final['predicted'] = y_pred_final.Creditability_Prob.map( lambda x: 1 if x > 0.5 else 0)"
   ]
  },
  {
   "cell_type": "code",
   "execution_count": 226,
   "metadata": {},
   "outputs": [
    {
     "data": {
      "text/html": [
       "<div>\n",
       "<style scoped>\n",
       "    .dataframe tbody tr th:only-of-type {\n",
       "        vertical-align: middle;\n",
       "    }\n",
       "\n",
       "    .dataframe tbody tr th {\n",
       "        vertical-align: top;\n",
       "    }\n",
       "\n",
       "    .dataframe thead th {\n",
       "        text-align: right;\n",
       "    }\n",
       "</style>\n",
       "<table border=\"1\" class=\"dataframe\">\n",
       "  <thead>\n",
       "    <tr style=\"text-align: right;\">\n",
       "      <th></th>\n",
       "      <th>Creditability</th>\n",
       "      <th>Creditability_Prob</th>\n",
       "      <th>predicted</th>\n",
       "    </tr>\n",
       "  </thead>\n",
       "  <tbody>\n",
       "    <tr>\n",
       "      <th>0</th>\n",
       "      <td>0</td>\n",
       "      <td>0.676195</td>\n",
       "      <td>1</td>\n",
       "    </tr>\n",
       "    <tr>\n",
       "      <th>1</th>\n",
       "      <td>0</td>\n",
       "      <td>0.772269</td>\n",
       "      <td>1</td>\n",
       "    </tr>\n",
       "    <tr>\n",
       "      <th>2</th>\n",
       "      <td>1</td>\n",
       "      <td>0.676195</td>\n",
       "      <td>1</td>\n",
       "    </tr>\n",
       "    <tr>\n",
       "      <th>3</th>\n",
       "      <td>1</td>\n",
       "      <td>0.676195</td>\n",
       "      <td>1</td>\n",
       "    </tr>\n",
       "    <tr>\n",
       "      <th>4</th>\n",
       "      <td>1</td>\n",
       "      <td>0.668617</td>\n",
       "      <td>1</td>\n",
       "    </tr>\n",
       "    <tr>\n",
       "      <th>5</th>\n",
       "      <td>0</td>\n",
       "      <td>0.676195</td>\n",
       "      <td>1</td>\n",
       "    </tr>\n",
       "    <tr>\n",
       "      <th>6</th>\n",
       "      <td>1</td>\n",
       "      <td>0.726861</td>\n",
       "      <td>1</td>\n",
       "    </tr>\n",
       "    <tr>\n",
       "      <th>7</th>\n",
       "      <td>1</td>\n",
       "      <td>0.772269</td>\n",
       "      <td>1</td>\n",
       "    </tr>\n",
       "    <tr>\n",
       "      <th>8</th>\n",
       "      <td>1</td>\n",
       "      <td>0.726861</td>\n",
       "      <td>1</td>\n",
       "    </tr>\n",
       "    <tr>\n",
       "      <th>9</th>\n",
       "      <td>1</td>\n",
       "      <td>0.726861</td>\n",
       "      <td>1</td>\n",
       "    </tr>\n",
       "  </tbody>\n",
       "</table>\n",
       "</div>"
      ],
      "text/plain": [
       "   Creditability  Creditability_Prob  predicted\n",
       "0              0            0.676195          1\n",
       "1              0            0.772269          1\n",
       "2              1            0.676195          1\n",
       "3              1            0.676195          1\n",
       "4              1            0.668617          1\n",
       "5              0            0.676195          1\n",
       "6              1            0.726861          1\n",
       "7              1            0.772269          1\n",
       "8              1            0.726861          1\n",
       "9              1            0.726861          1"
      ]
     },
     "execution_count": 226,
     "metadata": {},
     "output_type": "execute_result"
    }
   ],
   "source": [
    "y_pred_final.head(10)"
   ]
  },
  {
   "cell_type": "code",
   "execution_count": 227,
   "metadata": {},
   "outputs": [],
   "source": [
    "from sklearn import metrics"
   ]
  },
  {
   "cell_type": "code",
   "execution_count": 228,
   "metadata": {},
   "outputs": [
    {
     "name": "stdout",
     "output_type": "stream",
     "text": [
      "Help on function confusion_matrix in module sklearn.metrics.classification:\n",
      "\n",
      "confusion_matrix(y_true, y_pred, labels=None, sample_weight=None)\n",
      "    Compute confusion matrix to evaluate the accuracy of a classification\n",
      "    \n",
      "    By definition a confusion matrix :math:`C` is such that :math:`C_{i, j}`\n",
      "    is equal to the number of observations known to be in group :math:`i` but\n",
      "    predicted to be in group :math:`j`.\n",
      "    \n",
      "    Thus in binary classification, the count of true negatives is\n",
      "    :math:`C_{0,0}`, false negatives is :math:`C_{1,0}`, true positives is\n",
      "    :math:`C_{1,1}` and false positives is :math:`C_{0,1}`.\n",
      "    \n",
      "    Read more in the :ref:`User Guide <confusion_matrix>`.\n",
      "    \n",
      "    Parameters\n",
      "    ----------\n",
      "    y_true : array, shape = [n_samples]\n",
      "        Ground truth (correct) target values.\n",
      "    \n",
      "    y_pred : array, shape = [n_samples]\n",
      "        Estimated targets as returned by a classifier.\n",
      "    \n",
      "    labels : array, shape = [n_classes], optional\n",
      "        List of labels to index the matrix. This may be used to reorder\n",
      "        or select a subset of labels.\n",
      "        If none is given, those that appear at least once\n",
      "        in ``y_true`` or ``y_pred`` are used in sorted order.\n",
      "    \n",
      "    sample_weight : array-like of shape = [n_samples], optional\n",
      "        Sample weights.\n",
      "    \n",
      "    Returns\n",
      "    -------\n",
      "    C : array, shape = [n_classes, n_classes]\n",
      "        Confusion matrix\n",
      "    \n",
      "    References\n",
      "    ----------\n",
      "    .. [1] `Wikipedia entry for the Confusion matrix\n",
      "           <https://en.wikipedia.org/wiki/Confusion_matrix>`_\n",
      "    \n",
      "    Examples\n",
      "    --------\n",
      "    >>> from sklearn.metrics import confusion_matrix\n",
      "    >>> y_true = [2, 0, 2, 2, 0, 1]\n",
      "    >>> y_pred = [0, 0, 2, 2, 0, 2]\n",
      "    >>> confusion_matrix(y_true, y_pred)\n",
      "    array([[2, 0, 0],\n",
      "           [0, 0, 1],\n",
      "           [1, 0, 2]])\n",
      "    \n",
      "    >>> y_true = [\"cat\", \"ant\", \"cat\", \"cat\", \"ant\", \"bird\"]\n",
      "    >>> y_pred = [\"ant\", \"ant\", \"cat\", \"cat\", \"ant\", \"cat\"]\n",
      "    >>> confusion_matrix(y_true, y_pred, labels=[\"ant\", \"bird\", \"cat\"])\n",
      "    array([[2, 0, 0],\n",
      "           [0, 0, 1],\n",
      "           [1, 0, 2]])\n",
      "    \n",
      "    In the binary case, we can extract true positives, etc as follows:\n",
      "    \n",
      "    >>> tn, fp, fn, tp = confusion_matrix([0, 1, 0, 1], [1, 1, 1, 0]).ravel()\n",
      "    >>> (tn, fp, fn, tp)\n",
      "    (0, 2, 1, 1)\n",
      "\n"
     ]
    }
   ],
   "source": [
    "help(metrics.confusion_matrix)"
   ]
  },
  {
   "cell_type": "code",
   "execution_count": 229,
   "metadata": {},
   "outputs": [
    {
     "data": {
      "text/plain": [
       "array([[  0, 100],\n",
       "       [  0, 200]], dtype=int64)"
      ]
     },
     "execution_count": 229,
     "metadata": {},
     "output_type": "execute_result"
    }
   ],
   "source": [
    "# Confusion matrix \n",
    "confusion = metrics.confusion_matrix( y_pred_final.Creditability, y_pred_final.predicted )\n",
    "confusion"
   ]
  },
  {
   "cell_type": "code",
   "execution_count": 230,
   "metadata": {},
   "outputs": [
    {
     "data": {
      "text/plain": [
       "0.6666666666666666"
      ]
     },
     "execution_count": 230,
     "metadata": {},
     "output_type": "execute_result"
    }
   ],
   "source": [
    "metrics.accuracy_score( y_pred_final.Creditability, y_pred_final.predicted)"
   ]
  },
  {
   "cell_type": "code",
   "execution_count": 231,
   "metadata": {},
   "outputs": [],
   "source": [
    "TP = confusion[0,0] # true positive \n",
    "TN = confusion[1,1] # true negatives\n",
    "FP = confusion[0,1] # false positives\n",
    "FN = confusion[1,0] # false negatives"
   ]
  },
  {
   "cell_type": "code",
   "execution_count": 232,
   "metadata": {},
   "outputs": [
    {
     "name": "stderr",
     "output_type": "stream",
     "text": [
      "C:\\Users\\SACHIN\\Anaconda3.6\\lib\\site-packages\\ipykernel_launcher.py:2: RuntimeWarning: invalid value encountered in true_divide\n",
      "  \n"
     ]
    },
    {
     "data": {
      "text/plain": [
       "nan"
      ]
     },
     "execution_count": 232,
     "metadata": {},
     "output_type": "execute_result"
    }
   ],
   "source": [
    "# Let's see the sensitivity of our logistic regression model\n",
    "TP / float(TP+FN)"
   ]
  },
  {
   "cell_type": "code",
   "execution_count": 233,
   "metadata": {},
   "outputs": [
    {
     "data": {
      "text/plain": [
       "0.6666666666666666"
      ]
     },
     "execution_count": 233,
     "metadata": {},
     "output_type": "execute_result"
    }
   ],
   "source": [
    "# Let us calculate specificity\n",
    "TN / float(TN+FP)"
   ]
  },
  {
   "cell_type": "code",
   "execution_count": 234,
   "metadata": {},
   "outputs": [
    {
     "name": "stdout",
     "output_type": "stream",
     "text": [
      "0.3333333333333333\n"
     ]
    }
   ],
   "source": [
    "# Calculate false postive rate - predicting churn when customer does not have churned\n",
    "print(FP/ float(TN+FP))"
   ]
  },
  {
   "cell_type": "code",
   "execution_count": 235,
   "metadata": {},
   "outputs": [
    {
     "name": "stdout",
     "output_type": "stream",
     "text": [
      "0.0\n"
     ]
    }
   ],
   "source": [
    "# positive predictive value \n",
    "print (TP / float(TP+FP))"
   ]
  },
  {
   "cell_type": "code",
   "execution_count": 236,
   "metadata": {},
   "outputs": [
    {
     "name": "stdout",
     "output_type": "stream",
     "text": [
      "1.0\n"
     ]
    }
   ],
   "source": [
    "# Negative predictive value\n",
    "print (TN / float(TN+ FN))"
   ]
  },
  {
   "cell_type": "code",
   "execution_count": 237,
   "metadata": {},
   "outputs": [],
   "source": [
    "def draw_roc( actual, probs ):\n",
    "    fpr, tpr, thresholds = metrics.roc_curve( actual, probs,\n",
    "                                              drop_intermediate = False )\n",
    "    auc_score = metrics.roc_auc_score( actual, probs )\n",
    "    plt.figure(figsize=(6, 4))\n",
    "    plt.plot( fpr, tpr, label='ROC curve (area = %0.2f)' % auc_score )\n",
    "    plt.plot([0, 1], [0, 1], 'k--')\n",
    "    plt.xlim([0.0, 1.0])\n",
    "    plt.ylim([0.0, 1.05])\n",
    "    plt.xlabel('False Positive Rate or [1 - True Negative Rate]')\n",
    "    plt.ylabel('True Positive Rate')\n",
    "    plt.title('Receiver operating characteristic example')\n",
    "    plt.legend(loc=\"lower right\")\n",
    "    plt.show()\n",
    "\n",
    "    return fpr, tpr, thresholds"
   ]
  },
  {
   "cell_type": "code",
   "execution_count": 238,
   "metadata": {},
   "outputs": [
    {
     "data": {
      "image/png": "[encoded data removed]",
      "text/plain": [
       "<matplotlib.figure.Figure at 0x1ff366137b8>"
      ]
     },
     "metadata": {},
     "output_type": "display_data"
    },
    {
     "data": {
      "text/plain": [
       "(array([0., 1.]), array([0., 1.]), array([2, 1], dtype=int64))"
      ]
     },
     "execution_count": 238,
     "metadata": {},
     "output_type": "execute_result"
    }
   ],
   "source": [
    "draw_roc(y_pred_final.Creditability, y_pred_final.predicted)"
   ]
  },
  {
   "cell_type": "code",
   "execution_count": 239,
   "metadata": {},
   "outputs": [
    {
     "data": {
      "text/html": [
       "<div>\n",
       "<style scoped>\n",
       "    .dataframe tbody tr th:only-of-type {\n",
       "        vertical-align: middle;\n",
       "    }\n",
       "\n",
       "    .dataframe tbody tr th {\n",
       "        vertical-align: top;\n",
       "    }\n",
       "\n",
       "    .dataframe thead th {\n",
       "        text-align: right;\n",
       "    }\n",
       "</style>\n",
       "<table border=\"1\" class=\"dataframe\">\n",
       "  <thead>\n",
       "    <tr style=\"text-align: right;\">\n",
       "      <th></th>\n",
       "      <th>Creditability</th>\n",
       "      <th>Creditability_Prob</th>\n",
       "      <th>predicted</th>\n",
       "      <th>0.0</th>\n",
       "      <th>0.1</th>\n",
       "      <th>0.2</th>\n",
       "      <th>0.3</th>\n",
       "      <th>0.4</th>\n",
       "      <th>0.5</th>\n",
       "      <th>0.6</th>\n",
       "      <th>0.7</th>\n",
       "      <th>0.8</th>\n",
       "      <th>0.9</th>\n",
       "    </tr>\n",
       "  </thead>\n",
       "  <tbody>\n",
       "    <tr>\n",
       "      <th>0</th>\n",
       "      <td>0</td>\n",
       "      <td>0.676195</td>\n",
       "      <td>1</td>\n",
       "      <td>1</td>\n",
       "      <td>1</td>\n",
       "      <td>1</td>\n",
       "      <td>1</td>\n",
       "      <td>1</td>\n",
       "      <td>1</td>\n",
       "      <td>1</td>\n",
       "      <td>0</td>\n",
       "      <td>0</td>\n",
       "      <td>0</td>\n",
       "    </tr>\n",
       "    <tr>\n",
       "      <th>1</th>\n",
       "      <td>0</td>\n",
       "      <td>0.772269</td>\n",
       "      <td>1</td>\n",
       "      <td>1</td>\n",
       "      <td>1</td>\n",
       "      <td>1</td>\n",
       "      <td>1</td>\n",
       "      <td>1</td>\n",
       "      <td>1</td>\n",
       "      <td>1</td>\n",
       "      <td>1</td>\n",
       "      <td>0</td>\n",
       "      <td>0</td>\n",
       "    </tr>\n",
       "    <tr>\n",
       "      <th>2</th>\n",
       "      <td>1</td>\n",
       "      <td>0.676195</td>\n",
       "      <td>1</td>\n",
       "      <td>1</td>\n",
       "      <td>1</td>\n",
       "      <td>1</td>\n",
       "      <td>1</td>\n",
       "      <td>1</td>\n",
       "      <td>1</td>\n",
       "      <td>1</td>\n",
       "      <td>0</td>\n",
       "      <td>0</td>\n",
       "      <td>0</td>\n",
       "    </tr>\n",
       "    <tr>\n",
       "      <th>3</th>\n",
       "      <td>1</td>\n",
       "      <td>0.676195</td>\n",
       "      <td>1</td>\n",
       "      <td>1</td>\n",
       "      <td>1</td>\n",
       "      <td>1</td>\n",
       "      <td>1</td>\n",
       "      <td>1</td>\n",
       "      <td>1</td>\n",
       "      <td>1</td>\n",
       "      <td>0</td>\n",
       "      <td>0</td>\n",
       "      <td>0</td>\n",
       "    </tr>\n",
       "    <tr>\n",
       "      <th>4</th>\n",
       "      <td>1</td>\n",
       "      <td>0.668617</td>\n",
       "      <td>1</td>\n",
       "      <td>1</td>\n",
       "      <td>1</td>\n",
       "      <td>1</td>\n",
       "      <td>1</td>\n",
       "      <td>1</td>\n",
       "      <td>1</td>\n",
       "      <td>1</td>\n",
       "      <td>0</td>\n",
       "      <td>0</td>\n",
       "      <td>0</td>\n",
       "    </tr>\n",
       "  </tbody>\n",
       "</table>\n",
       "</div>"
      ],
      "text/plain": [
       "   Creditability  Creditability_Prob  predicted  0.0  0.1  0.2  0.3  0.4  0.5  \\\n",
       "0              0            0.676195          1    1    1    1    1    1    1   \n",
       "1              0            0.772269          1    1    1    1    1    1    1   \n",
       "2              1            0.676195          1    1    1    1    1    1    1   \n",
       "3              1            0.676195          1    1    1    1    1    1    1   \n",
       "4              1            0.668617          1    1    1    1    1    1    1   \n",
       "\n",
       "   0.6  0.7  0.8  0.9  \n",
       "0    1    0    0    0  \n",
       "1    1    1    0    0  \n",
       "2    1    0    0    0  \n",
       "3    1    0    0    0  \n",
       "4    1    0    0    0  "
      ]
     },
     "execution_count": 239,
     "metadata": {},
     "output_type": "execute_result"
    }
   ],
   "source": [
    "# Let's create columns with different probability cutoffs \n",
    "numbers = [float(x)/10 for x in range(10)]\n",
    "for i in numbers:\n",
    "    y_pred_final[i]= y_pred_final.Creditability_Prob.map( lambda x: 1 if x > i else 0)\n",
    "y_pred_final.head()"
   ]
  },
  {
   "cell_type": "code",
   "execution_count": 240,
   "metadata": {},
   "outputs": [
    {
     "name": "stdout",
     "output_type": "stream",
     "text": [
      "     prob  accuracy  sensi  speci\n",
      "0.0   0.0  0.666667   0.00  1.000\n",
      "0.1   0.1  0.666667   0.00  1.000\n",
      "0.2   0.2  0.666667   0.00  1.000\n",
      "0.3   0.3  0.666667   0.00  1.000\n",
      "0.4   0.4  0.666667   0.00  1.000\n",
      "0.5   0.5  0.666667   0.00  1.000\n",
      "0.6   0.6  0.666667   0.00  1.000\n",
      "0.7   0.7  0.563333   0.43  0.630\n",
      "0.8   0.8  0.356667   1.00  0.035\n",
      "0.9   0.9  0.333333   1.00  0.000\n"
     ]
    }
   ],
   "source": [
    "# Now let's calculate accuracy sensitivity and specificity for various probability cutoffs.\n",
    "cutoff_df = pd.DataFrame( columns = ['prob','accuracy','sensi','speci'])\n",
    "from sklearn.metrics import confusion_matrix\n",
    "num = [0.0,0.1,0.2,0.3,0.4,0.5,0.6,0.7,0.8,0.9]\n",
    "for i in num:\n",
    "    cm1 = metrics.confusion_matrix( y_pred_final.Creditability, y_pred_final[i] )\n",
    "    total1=sum(sum(cm1))\n",
    "    accuracy = (cm1[0,0]+cm1[1,1])/total1\n",
    "    sensi = cm1[0,0]/(cm1[0,0]+cm1[0,1])\n",
    "    speci = cm1[1,1]/(cm1[1,0]+cm1[1,1])\n",
    "    cutoff_df.loc[i] =[ i ,accuracy,sensi,speci]\n",
    "print(cutoff_df)"
   ]
  },
  {
   "cell_type": "code",
   "execution_count": 241,
   "metadata": {},
   "outputs": [
    {
     "name": "stderr",
     "output_type": "stream",
     "text": [
      "C:\\Users\\SACHIN\\Anaconda3.6\\lib\\site-packages\\pandas\\plotting\\_core.py:1716: UserWarning: Pandas doesn't allow columns to be created via a new attribute name - see https://pandas.pydata.org/pandas-docs/stable/indexing.html#attribute-access\n",
      "  series.name = label\n"
     ]
    },
    {
     "data": {
      "text/plain": [
       "<matplotlib.axes._subplots.AxesSubplot at 0x1ff36673278>"
      ]
     },
     "execution_count": 241,
     "metadata": {},
     "output_type": "execute_result"
    },
    {
     "data": {
      "image/png": "[encoded data removed]",
      "text/plain": [
       "<matplotlib.figure.Figure at 0x1ff36673e10>"
      ]
     },
     "metadata": {},
     "output_type": "display_data"
    }
   ],
   "source": [
    "# Let's plot accuracy sensitivity and specificity for various probabilities.\n",
    "cutoff_df.plot.line(x='prob', y=['accuracy','sensi','speci'])"
   ]
  },
  {
   "cell_type": "code",
   "execution_count": 242,
   "metadata": {},
   "outputs": [],
   "source": [
    "y_pred_final['final_predicted'] = y_pred_final.Creditability_Prob.map( lambda x: 1 if x > 0.3 else 0)"
   ]
  },
  {
   "cell_type": "code",
   "execution_count": 243,
   "metadata": {},
   "outputs": [
    {
     "data": {
      "text/html": [
       "<div>\n",
       "<style scoped>\n",
       "    .dataframe tbody tr th:only-of-type {\n",
       "        vertical-align: middle;\n",
       "    }\n",
       "\n",
       "    .dataframe tbody tr th {\n",
       "        vertical-align: top;\n",
       "    }\n",
       "\n",
       "    .dataframe thead th {\n",
       "        text-align: right;\n",
       "    }\n",
       "</style>\n",
       "<table border=\"1\" class=\"dataframe\">\n",
       "  <thead>\n",
       "    <tr style=\"text-align: right;\">\n",
       "      <th></th>\n",
       "      <th>Creditability</th>\n",
       "      <th>Creditability_Prob</th>\n",
       "      <th>predicted</th>\n",
       "      <th>0.0</th>\n",
       "      <th>0.1</th>\n",
       "      <th>0.2</th>\n",
       "      <th>0.3</th>\n",
       "      <th>0.4</th>\n",
       "      <th>0.5</th>\n",
       "      <th>0.6</th>\n",
       "      <th>0.7</th>\n",
       "      <th>0.8</th>\n",
       "      <th>0.9</th>\n",
       "      <th>final_predicted</th>\n",
       "    </tr>\n",
       "  </thead>\n",
       "  <tbody>\n",
       "    <tr>\n",
       "      <th>0</th>\n",
       "      <td>0</td>\n",
       "      <td>0.676195</td>\n",
       "      <td>1</td>\n",
       "      <td>1</td>\n",
       "      <td>1</td>\n",
       "      <td>1</td>\n",
       "      <td>1</td>\n",
       "      <td>1</td>\n",
       "      <td>1</td>\n",
       "      <td>1</td>\n",
       "      <td>0</td>\n",
       "      <td>0</td>\n",
       "      <td>0</td>\n",
       "      <td>1</td>\n",
       "    </tr>\n",
       "    <tr>\n",
       "      <th>1</th>\n",
       "      <td>0</td>\n",
       "      <td>0.772269</td>\n",
       "      <td>1</td>\n",
       "      <td>1</td>\n",
       "      <td>1</td>\n",
       "      <td>1</td>\n",
       "      <td>1</td>\n",
       "      <td>1</td>\n",
       "      <td>1</td>\n",
       "      <td>1</td>\n",
       "      <td>1</td>\n",
       "      <td>0</td>\n",
       "      <td>0</td>\n",
       "      <td>1</td>\n",
       "    </tr>\n",
       "    <tr>\n",
       "      <th>2</th>\n",
       "      <td>1</td>\n",
       "      <td>0.676195</td>\n",
       "      <td>1</td>\n",
       "      <td>1</td>\n",
       "      <td>1</td>\n",
       "      <td>1</td>\n",
       "      <td>1</td>\n",
       "      <td>1</td>\n",
       "      <td>1</td>\n",
       "      <td>1</td>\n",
       "      <td>0</td>\n",
       "      <td>0</td>\n",
       "      <td>0</td>\n",
       "      <td>1</td>\n",
       "    </tr>\n",
       "    <tr>\n",
       "      <th>3</th>\n",
       "      <td>1</td>\n",
       "      <td>0.676195</td>\n",
       "      <td>1</td>\n",
       "      <td>1</td>\n",
       "      <td>1</td>\n",
       "      <td>1</td>\n",
       "      <td>1</td>\n",
       "      <td>1</td>\n",
       "      <td>1</td>\n",
       "      <td>1</td>\n",
       "      <td>0</td>\n",
       "      <td>0</td>\n",
       "      <td>0</td>\n",
       "      <td>1</td>\n",
       "    </tr>\n",
       "    <tr>\n",
       "      <th>4</th>\n",
       "      <td>1</td>\n",
       "      <td>0.668617</td>\n",
       "      <td>1</td>\n",
       "      <td>1</td>\n",
       "      <td>1</td>\n",
       "      <td>1</td>\n",
       "      <td>1</td>\n",
       "      <td>1</td>\n",
       "      <td>1</td>\n",
       "      <td>1</td>\n",
       "      <td>0</td>\n",
       "      <td>0</td>\n",
       "      <td>0</td>\n",
       "      <td>1</td>\n",
       "    </tr>\n",
       "  </tbody>\n",
       "</table>\n",
       "</div>"
      ],
      "text/plain": [
       "   Creditability  Creditability_Prob  predicted  0.0  0.1  0.2  0.3  0.4  0.5  \\\n",
       "0              0            0.676195          1    1    1    1    1    1    1   \n",
       "1              0            0.772269          1    1    1    1    1    1    1   \n",
       "2              1            0.676195          1    1    1    1    1    1    1   \n",
       "3              1            0.676195          1    1    1    1    1    1    1   \n",
       "4              1            0.668617          1    1    1    1    1    1    1   \n",
       "\n",
       "   0.6  0.7  0.8  0.9  final_predicted  \n",
       "0    1    0    0    0                1  \n",
       "1    1    1    0    0                1  \n",
       "2    1    0    0    0                1  \n",
       "3    1    0    0    0                1  \n",
       "4    1    0    0    0                1  "
      ]
     },
     "execution_count": 243,
     "metadata": {},
     "output_type": "execute_result"
    }
   ],
   "source": [
    "y_pred_final.head()"
   ]
  },
  {
   "cell_type": "code",
   "execution_count": 244,
   "metadata": {},
   "outputs": [
    {
     "data": {
      "text/plain": [
       "0.6666666666666666"
      ]
     },
     "execution_count": 244,
     "metadata": {},
     "output_type": "execute_result"
    }
   ],
   "source": [
    "#Let's check the overall accuracy.\n",
    "metrics.accuracy_score( y_pred_final.Creditability, y_pred_final.final_predicted)"
   ]
  },
  {
   "cell_type": "code",
   "execution_count": 245,
   "metadata": {},
   "outputs": [
    {
     "data": {
      "text/plain": [
       "array([[  0, 100],\n",
       "       [  0, 200]], dtype=int64)"
      ]
     },
     "execution_count": 245,
     "metadata": {},
     "output_type": "execute_result"
    }
   ],
   "source": [
    "metrics.confusion_matrix( y_pred_final.Creditability, y_pred_final.final_predicted )"
   ]
  },
  {
   "cell_type": "code",
   "execution_count": null,
   "metadata": {},
   "outputs": [],
   "source": []
  }
 ],
 "metadata": {
  "kernelspec": {
   "display_name": "Python 3",
   "language": "python",
   "name": "python3"
  },
  "language_info": {
   "codemirror_mode": {
    "name": "ipython",
    "version": 3
   },
   "file_extension": ".py",
   "mimetype": "text/x-python",
   "name": "python",
   "nbconvert_exporter": "python",
   "pygments_lexer": "ipython3",
   "version": "3.6.4"
  }
 },
 "nbformat": 4,
 "nbformat_minor": 2
}
